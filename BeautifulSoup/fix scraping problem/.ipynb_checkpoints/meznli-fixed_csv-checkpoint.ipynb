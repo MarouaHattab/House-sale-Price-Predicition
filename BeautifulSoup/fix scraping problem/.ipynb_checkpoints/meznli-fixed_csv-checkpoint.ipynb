{
 "cells": [
  {
   "cell_type": "code",
   "execution_count": 178,
   "metadata": {},
   "outputs": [],
   "source": [
    "import pandas as pd\n",
    "import matplotlib.pyplot as plt\n",
    "import seaborn as sns\n",
    "import numpy as np\n"
   ]
  },
  {
   "cell_type": "code",
   "execution_count": 179,
   "metadata": {},
   "outputs": [
    {
     "data": {
      "text/html": [
       "<div>\n",
       "<style scoped>\n",
       "    .dataframe tbody tr th:only-of-type {\n",
       "        vertical-align: middle;\n",
       "    }\n",
       "\n",
       "    .dataframe tbody tr th {\n",
       "        vertical-align: top;\n",
       "    }\n",
       "\n",
       "    .dataframe thead th {\n",
       "        text-align: right;\n",
       "    }\n",
       "</style>\n",
       "<table border=\"1\" class=\"dataframe\">\n",
       "  <thead>\n",
       "    <tr style=\"text-align: right;\">\n",
       "      <th></th>\n",
       "      <th>title</th>\n",
       "      <th>premium</th>\n",
       "      <th>price</th>\n",
       "      <th>property_type</th>\n",
       "      <th>property_details_chambres</th>\n",
       "      <th>property_details_salle_de_bain</th>\n",
       "      <th>property_details_pieces</th>\n",
       "      <th>property_details_surface_habitable</th>\n",
       "      <th>property_details_surface_terrain</th>\n",
       "      <th>property_details_annee_construction</th>\n",
       "      <th>...</th>\n",
       "      <th>amenity_interphone</th>\n",
       "      <th>amenity_terrasses</th>\n",
       "      <th>amenity_chauffage_électriques</th>\n",
       "      <th>amenity_ascenseur</th>\n",
       "      <th>amenity_système_alarme</th>\n",
       "      <th>amenity_accès_internet</th>\n",
       "      <th>amenity_vue_mer</th>\n",
       "      <th>amenity_meublé</th>\n",
       "      <th>amenity_chauffage_centrale</th>\n",
       "      <th>amenity_cuisine_équipé</th>\n",
       "    </tr>\n",
       "  </thead>\n",
       "  <tbody>\n",
       "    <tr>\n",
       "      <th>0</th>\n",
       "      <td>A vendre Appartement au lac 2</td>\n",
       "      <td>Premium</td>\n",
       "      <td>1250000.0</td>\n",
       "      <td>Appartement</td>\n",
       "      <td>3.0</td>\n",
       "      <td>NaN</td>\n",
       "      <td>4.0</td>\n",
       "      <td>178.0</td>\n",
       "      <td>178.0</td>\n",
       "      <td>NaN</td>\n",
       "      <td>...</td>\n",
       "      <td>1</td>\n",
       "      <td>1</td>\n",
       "      <td>1</td>\n",
       "      <td>1</td>\n",
       "      <td>1</td>\n",
       "      <td>1</td>\n",
       "      <td>1</td>\n",
       "      <td>0</td>\n",
       "      <td>1</td>\n",
       "      <td>1</td>\n",
       "    </tr>\n",
       "    <tr>\n",
       "      <th>1</th>\n",
       "      <td>Appartement S3 à vendre à la Marsa</td>\n",
       "      <td>Premium</td>\n",
       "      <td>360000.0</td>\n",
       "      <td>Appartement</td>\n",
       "      <td>3.0</td>\n",
       "      <td>NaN</td>\n",
       "      <td>4.0</td>\n",
       "      <td>110.0</td>\n",
       "      <td>110.0</td>\n",
       "      <td>NaN</td>\n",
       "      <td>...</td>\n",
       "      <td>1</td>\n",
       "      <td>1</td>\n",
       "      <td>1</td>\n",
       "      <td>1</td>\n",
       "      <td>1</td>\n",
       "      <td>1</td>\n",
       "      <td>1</td>\n",
       "      <td>1</td>\n",
       "      <td>1</td>\n",
       "      <td>1</td>\n",
       "    </tr>\n",
       "  </tbody>\n",
       "</table>\n",
       "<p>2 rows × 33 columns</p>\n",
       "</div>"
      ],
      "text/plain": [
       "                                title  premium      price property_type  \\\n",
       "0       A vendre Appartement au lac 2  Premium  1250000.0   Appartement   \n",
       "1  Appartement S3 à vendre à la Marsa  Premium   360000.0   Appartement   \n",
       "\n",
       "   property_details_chambres  property_details_salle_de_bain  \\\n",
       "0                        3.0                             NaN   \n",
       "1                        3.0                             NaN   \n",
       "\n",
       "   property_details_pieces  property_details_surface_habitable  \\\n",
       "0                      4.0                               178.0   \n",
       "1                      4.0                               110.0   \n",
       "\n",
       "   property_details_surface_terrain  property_details_annee_construction  ...  \\\n",
       "0                             178.0                                  NaN  ...   \n",
       "1                             110.0                                  NaN  ...   \n",
       "\n",
       "  amenity_interphone amenity_terrasses amenity_chauffage_électriques  \\\n",
       "0                  1                 1                             1   \n",
       "1                  1                 1                             1   \n",
       "\n",
       "  amenity_ascenseur amenity_système_alarme  amenity_accès_internet  \\\n",
       "0                 1                      1                       1   \n",
       "1                 1                      1                       1   \n",
       "\n",
       "   amenity_vue_mer  amenity_meublé  amenity_chauffage_centrale  \\\n",
       "0                1               0                           1   \n",
       "1                1               1                           1   \n",
       "\n",
       "   amenity_cuisine_équipé  \n",
       "0                       1  \n",
       "1                       1  \n",
       "\n",
       "[2 rows x 33 columns]"
      ]
     },
     "execution_count": 179,
     "metadata": {},
     "output_type": "execute_result"
    }
   ],
   "source": [
    "df = pd.read_csv('menzili_properties.csv')\n",
    "df.head(2)"
   ]
  },
  {
   "cell_type": "code",
   "execution_count": 180,
   "metadata": {},
   "outputs": [
    {
     "name": "stdout",
     "output_type": "stream",
     "text": [
      "<class 'pandas.core.frame.DataFrame'>\n",
      "RangeIndex: 16063 entries, 0 to 16062\n",
      "Data columns (total 33 columns):\n",
      " #   Column                               Non-Null Count  Dtype  \n",
      "---  ------                               --------------  -----  \n",
      " 0   title                                16063 non-null  object \n",
      " 1   premium                              16063 non-null  object \n",
      " 2   price                                14352 non-null  float64\n",
      " 3   property_type                        16063 non-null  object \n",
      " 4   property_details_chambres            12290 non-null  float64\n",
      " 5   property_details_salle_de_bain       11332 non-null  float64\n",
      " 6   property_details_pieces              9481 non-null   float64\n",
      " 7   property_details_surface_habitable   16063 non-null  float64\n",
      " 8   property_details_surface_terrain     16063 non-null  float64\n",
      " 9   property_details_annee_construction  4218 non-null   float64\n",
      " 10  location                             16063 non-null  object \n",
      " 11  neighborhood                         16054 non-null  object \n",
      " 12  city                                 16054 non-null  object \n",
      " 13  description                          16042 non-null  object \n",
      " 14  link                                 16063 non-null  object \n",
      " 15  amenity_climatisation                16063 non-null  int64  \n",
      " 16  amenity_parabole_tv                  16063 non-null  int64  \n",
      " 17  amenity_piscine                      16063 non-null  int64  \n",
      " 18  amenity_accès_handicapé              16063 non-null  int64  \n",
      " 19  amenity_place_de_parc                16063 non-null  int64  \n",
      " 20  amenity_garage                       16063 non-null  int64  \n",
      " 21  amenity_jardin                       16063 non-null  int64  \n",
      " 22  amenity_cheminée                     16063 non-null  int64  \n",
      " 23  amenity_interphone                   16063 non-null  int64  \n",
      " 24  amenity_terrasses                    16063 non-null  int64  \n",
      " 25  amenity_chauffage_électriques        16063 non-null  int64  \n",
      " 26  amenity_ascenseur                    16063 non-null  int64  \n",
      " 27  amenity_système_alarme               16063 non-null  int64  \n",
      " 28  amenity_accès_internet               16063 non-null  int64  \n",
      " 29  amenity_vue_mer                      16063 non-null  int64  \n",
      " 30  amenity_meublé                       16063 non-null  int64  \n",
      " 31  amenity_chauffage_centrale           16063 non-null  int64  \n",
      " 32  amenity_cuisine_équipé               16063 non-null  int64  \n",
      "dtypes: float64(7), int64(18), object(8)\n",
      "memory usage: 4.0+ MB\n"
     ]
    }
   ],
   "source": [
    "df.info()"
   ]
  },
  {
   "cell_type": "code",
   "execution_count": 181,
   "metadata": {},
   "outputs": [],
   "source": [
    "column_to_drop=['title', 'premium','location','link','description']\n",
    "df.drop(columns=column_to_drop,inplace=True)"
   ]
  },
  {
   "cell_type": "code",
   "execution_count": 182,
   "metadata": {},
   "outputs": [
    {
     "data": {
      "text/plain": [
       "['price',\n",
       " 'property_type',\n",
       " 'property_details_chambres',\n",
       " 'property_details_salle_de_bain',\n",
       " 'property_details_pieces',\n",
       " 'property_details_surface_habitable',\n",
       " 'property_details_surface_terrain',\n",
       " 'property_details_annee_construction',\n",
       " 'neighborhood',\n",
       " 'city',\n",
       " 'amenity_climatisation',\n",
       " 'amenity_parabole_tv',\n",
       " 'amenity_piscine',\n",
       " 'amenity_accès_handicapé',\n",
       " 'amenity_place_de_parc',\n",
       " 'amenity_garage',\n",
       " 'amenity_jardin',\n",
       " 'amenity_cheminée',\n",
       " 'amenity_interphone',\n",
       " 'amenity_terrasses',\n",
       " 'amenity_chauffage_électriques',\n",
       " 'amenity_ascenseur',\n",
       " 'amenity_système_alarme',\n",
       " 'amenity_accès_internet',\n",
       " 'amenity_vue_mer',\n",
       " 'amenity_meublé',\n",
       " 'amenity_chauffage_centrale',\n",
       " 'amenity_cuisine_équipé']"
      ]
     },
     "execution_count": 182,
     "metadata": {},
     "output_type": "execute_result"
    }
   ],
   "source": [
    "df.columns.tolist()"
   ]
  },
  {
   "cell_type": "code",
   "execution_count": 183,
   "metadata": {},
   "outputs": [
    {
     "data": {
      "text/plain": [
       "['price',\n",
       " 'property_type',\n",
       " 'bedrooms',\n",
       " 'bathrooms',\n",
       " 'total_rooms',\n",
       " 'living_area',\n",
       " 'land_area',\n",
       " 'construction_year',\n",
       " 'neighborhood',\n",
       " 'city',\n",
       " 'climatisation',\n",
       " 'parabole_tv',\n",
       " 'pool',\n",
       " 'handicapped_access',\n",
       " 'parking',\n",
       " 'garage',\n",
       " 'garden',\n",
       " 'fireplace',\n",
       " 'interphone',\n",
       " 'terrace',\n",
       " 'electric_heating',\n",
       " 'elevator',\n",
       " 'alarm_system',\n",
       " 'internet_access',\n",
       " 'sea_view',\n",
       " 'furnished',\n",
       " 'central_heating',\n",
       " 'kitchen_equipped']"
      ]
     },
     "execution_count": 183,
     "metadata": {},
     "output_type": "execute_result"
    }
   ],
   "source": [
    "# Create a dictionary mapping old column names to new ones\n",
    "new_names = {\n",
    "    'property_details_chambres': 'bedrooms',\n",
    "    'property_details_salle_de_bain': 'bathrooms',\n",
    "    'property_details_pieces': 'total_rooms',\n",
    "    'property_details_surface_habitable': 'living_area',\n",
    "    'property_details_surface_terrain': 'land_area',\n",
    "    'property_details_annee_construction': 'construction_year',\n",
    "     'amenity_climatisation': 'climatisation',\n",
    "     'amenity_parabole_tv': 'parabole_tv',\n",
    "     'amenity_piscine': 'pool',\n",
    "     'amenity_accès_handicapé': 'handicapped_access',\n",
    "     'amenity_place_de_parc': 'parking',\n",
    "     'amenity_garage': 'garage',\n",
    "     'amenity_jardin': 'garden',\n",
    "        'amenity_cheminée' : 'fireplace',\n",
    "        'amenity_interphone': 'interphone',\n",
    "        'amenity_terrasses': 'terrace',\n",
    "        'amenity_chauffage_électriques' : 'electric_heating',\n",
    "        'amenity_ascenseur': 'elevator',\n",
    "        'amenity_système_alarme': 'alarm_system',\n",
    "        'amenity_accès_internet': 'internet_access',\n",
    "        'amenity_vue_mer': 'sea_view',\n",
    "        'amenity_meublé': 'furnished',\n",
    "        'amenity_chauffage_centrale': 'central_heating',\n",
    "        'amenity_cuisine_équipé': 'kitchen_equipped',\n",
    "\n",
    "\n",
    "}\n",
    "\n",
    "df = df.rename(columns=new_names)\n",
    "df.columns.tolist()"
   ]
  },
  {
   "cell_type": "code",
   "execution_count": 184,
   "metadata": {},
   "outputs": [
    {
     "name": "stdout",
     "output_type": "stream",
     "text": [
      "Number of rows after removing null prices: 14352\n"
     ]
    }
   ],
   "source": [
    "# Drop rows where price is null\n",
    "df = df.dropna(subset=['price'])\n",
    "\n",
    "# Verify the change\n",
    "print(f\"Number of rows after removing null prices: {len(df)}\")"
   ]
  },
  {
   "cell_type": "code",
   "execution_count": 185,
   "metadata": {},
   "outputs": [
    {
     "name": "stdout",
     "output_type": "stream",
     "text": [
      "<class 'pandas.core.frame.DataFrame'>\n",
      "Index: 14352 entries, 0 to 16062\n",
      "Data columns (total 28 columns):\n",
      " #   Column              Non-Null Count  Dtype  \n",
      "---  ------              --------------  -----  \n",
      " 0   price               14352 non-null  float64\n",
      " 1   property_type       14352 non-null  object \n",
      " 2   bedrooms            11072 non-null  float64\n",
      " 3   bathrooms           10163 non-null  float64\n",
      " 4   total_rooms         8585 non-null   float64\n",
      " 5   living_area         14352 non-null  float64\n",
      " 6   land_area           14352 non-null  float64\n",
      " 7   construction_year   3765 non-null   float64\n",
      " 8   neighborhood        14344 non-null  object \n",
      " 9   city                14344 non-null  object \n",
      " 10  climatisation       14352 non-null  int64  \n",
      " 11  parabole_tv         14352 non-null  int64  \n",
      " 12  pool                14352 non-null  int64  \n",
      " 13  handicapped_access  14352 non-null  int64  \n",
      " 14  parking             14352 non-null  int64  \n",
      " 15  garage              14352 non-null  int64  \n",
      " 16  garden              14352 non-null  int64  \n",
      " 17  fireplace           14352 non-null  int64  \n",
      " 18  interphone          14352 non-null  int64  \n",
      " 19  terrace             14352 non-null  int64  \n",
      " 20  electric_heating    14352 non-null  int64  \n",
      " 21  elevator            14352 non-null  int64  \n",
      " 22  alarm_system        14352 non-null  int64  \n",
      " 23  internet_access     14352 non-null  int64  \n",
      " 24  sea_view            14352 non-null  int64  \n",
      " 25  furnished           14352 non-null  int64  \n",
      " 26  central_heating     14352 non-null  int64  \n",
      " 27  kitchen_equipped    14352 non-null  int64  \n",
      "dtypes: float64(7), int64(18), object(3)\n",
      "memory usage: 3.2+ MB\n"
     ]
    }
   ],
   "source": [
    "df.info()"
   ]
  },
  {
   "cell_type": "code",
   "execution_count": 186,
   "metadata": {},
   "outputs": [
    {
     "data": {
      "text/plain": [
       "array([3.00000e+00, 1.00000e+00, 2.00000e+00, 4.00000e+00,         nan,\n",
       "       7.00000e+00, 5.00000e+00, 6.00000e+00, 1.38184e+05, 1.33185e+05,\n",
       "       9.00000e+00, 8.00000e+00, 4.51560e+04, 4.43550e+04, 2.90000e+05,\n",
       "       1.33057e+05, 1.16349e+05, 7.14680e+04, 6.44080e+04, 6.29110e+04,\n",
       "       4.17020e+04, 8.10700e+03, 3.57800e+03, 8.11000e+02])"
      ]
     },
     "execution_count": 186,
     "metadata": {},
     "output_type": "execute_result"
    }
   ],
   "source": [
    "df['bedrooms'].unique()"
   ]
  },
  {
   "cell_type": "code",
   "execution_count": 187,
   "metadata": {},
   "outputs": [
    {
     "data": {
      "text/html": [
       "<div>\n",
       "<style scoped>\n",
       "    .dataframe tbody tr th:only-of-type {\n",
       "        vertical-align: middle;\n",
       "    }\n",
       "\n",
       "    .dataframe tbody tr th {\n",
       "        vertical-align: top;\n",
       "    }\n",
       "\n",
       "    .dataframe thead th {\n",
       "        text-align: right;\n",
       "    }\n",
       "</style>\n",
       "<table border=\"1\" class=\"dataframe\">\n",
       "  <thead>\n",
       "    <tr style=\"text-align: right;\">\n",
       "      <th></th>\n",
       "      <th>price</th>\n",
       "      <th>property_type</th>\n",
       "      <th>bedrooms</th>\n",
       "      <th>bathrooms</th>\n",
       "      <th>total_rooms</th>\n",
       "      <th>living_area</th>\n",
       "      <th>land_area</th>\n",
       "      <th>construction_year</th>\n",
       "      <th>neighborhood</th>\n",
       "      <th>city</th>\n",
       "      <th>...</th>\n",
       "      <th>interphone</th>\n",
       "      <th>terrace</th>\n",
       "      <th>electric_heating</th>\n",
       "      <th>elevator</th>\n",
       "      <th>alarm_system</th>\n",
       "      <th>internet_access</th>\n",
       "      <th>sea_view</th>\n",
       "      <th>furnished</th>\n",
       "      <th>central_heating</th>\n",
       "      <th>kitchen_equipped</th>\n",
       "    </tr>\n",
       "  </thead>\n",
       "  <tbody>\n",
       "  </tbody>\n",
       "</table>\n",
       "<p>0 rows × 28 columns</p>\n",
       "</div>"
      ],
      "text/plain": [
       "Empty DataFrame\n",
       "Columns: [price, property_type, bedrooms, bathrooms, total_rooms, living_area, land_area, construction_year, neighborhood, city, climatisation, parabole_tv, pool, handicapped_access, parking, garage, garden, fireplace, interphone, terrace, electric_heating, elevator, alarm_system, internet_access, sea_view, furnished, central_heating, kitchen_equipped]\n",
       "Index: []\n",
       "\n",
       "[0 rows x 28 columns]"
      ]
     },
     "execution_count": 187,
     "metadata": {},
     "output_type": "execute_result"
    }
   ],
   "source": [
    "df[df['bedrooms']=='290000']"
   ]
  },
  {
   "cell_type": "markdown",
   "metadata": {},
   "source": [
    "this miss writing from the user "
   ]
  },
  {
   "cell_type": "code",
   "execution_count": 188,
   "metadata": {},
   "outputs": [],
   "source": [
    "df = df[df['bedrooms'] != '290000']"
   ]
  },
  {
   "cell_type": "code",
   "execution_count": 189,
   "metadata": {},
   "outputs": [
    {
     "data": {
      "text/plain": [
       "array([3.00000e+00, 1.00000e+00, 2.00000e+00, 4.00000e+00,         nan,\n",
       "       7.00000e+00, 5.00000e+00, 6.00000e+00, 1.38184e+05, 1.33185e+05,\n",
       "       9.00000e+00, 8.00000e+00, 4.51560e+04, 4.43550e+04, 2.90000e+05,\n",
       "       1.33057e+05, 1.16349e+05, 7.14680e+04, 6.44080e+04, 6.29110e+04,\n",
       "       4.17020e+04, 8.10700e+03, 3.57800e+03, 8.11000e+02])"
      ]
     },
     "execution_count": 189,
     "metadata": {},
     "output_type": "execute_result"
    }
   ],
   "source": [
    "df['bedrooms'].unique()"
   ]
  },
  {
   "cell_type": "code",
   "execution_count": 190,
   "metadata": {},
   "outputs": [
    {
     "data": {
      "text/html": [
       "<div>\n",
       "<style scoped>\n",
       "    .dataframe tbody tr th:only-of-type {\n",
       "        vertical-align: middle;\n",
       "    }\n",
       "\n",
       "    .dataframe tbody tr th {\n",
       "        vertical-align: top;\n",
       "    }\n",
       "\n",
       "    .dataframe thead th {\n",
       "        text-align: right;\n",
       "    }\n",
       "</style>\n",
       "<table border=\"1\" class=\"dataframe\">\n",
       "  <thead>\n",
       "    <tr style=\"text-align: right;\">\n",
       "      <th></th>\n",
       "      <th>price</th>\n",
       "      <th>property_type</th>\n",
       "      <th>bedrooms</th>\n",
       "      <th>bathrooms</th>\n",
       "      <th>total_rooms</th>\n",
       "      <th>living_area</th>\n",
       "      <th>land_area</th>\n",
       "      <th>construction_year</th>\n",
       "      <th>neighborhood</th>\n",
       "      <th>city</th>\n",
       "      <th>...</th>\n",
       "      <th>interphone</th>\n",
       "      <th>terrace</th>\n",
       "      <th>electric_heating</th>\n",
       "      <th>elevator</th>\n",
       "      <th>alarm_system</th>\n",
       "      <th>internet_access</th>\n",
       "      <th>sea_view</th>\n",
       "      <th>furnished</th>\n",
       "      <th>central_heating</th>\n",
       "      <th>kitchen_equipped</th>\n",
       "    </tr>\n",
       "  </thead>\n",
       "  <tbody>\n",
       "  </tbody>\n",
       "</table>\n",
       "<p>0 rows × 28 columns</p>\n",
       "</div>"
      ],
      "text/plain": [
       "Empty DataFrame\n",
       "Columns: [price, property_type, bedrooms, bathrooms, total_rooms, living_area, land_area, construction_year, neighborhood, city, climatisation, parabole_tv, pool, handicapped_access, parking, garage, garden, fireplace, interphone, terrace, electric_heating, elevator, alarm_system, internet_access, sea_view, furnished, central_heating, kitchen_equipped]\n",
       "Index: []\n",
       "\n",
       "[0 rows x 28 columns]"
      ]
     },
     "execution_count": 190,
     "metadata": {},
     "output_type": "execute_result"
    }
   ],
   "source": [
    "df[df['bedrooms']=='138184']"
   ]
  },
  {
   "cell_type": "code",
   "execution_count": 191,
   "metadata": {},
   "outputs": [
    {
     "name": "stderr",
     "output_type": "stream",
     "text": [
      "C:\\Users\\MSI\\AppData\\Local\\Temp\\ipykernel_25068\\171684643.py:1: FutureWarning: Setting an item of incompatible dtype is deprecated and will raise an error in a future version of pandas. Value '4' has dtype incompatible with float64, please explicitly cast to a compatible dtype first.\n",
      "  df.loc[df['bedrooms'] == '138184', 'bedrooms'] = '4'\n"
     ]
    }
   ],
   "source": [
    "df.loc[df['bedrooms'] == '138184', 'bedrooms'] = '4'"
   ]
  },
  {
   "cell_type": "code",
   "execution_count": 192,
   "metadata": {},
   "outputs": [
    {
     "data": {
      "text/plain": [
       "array([3.0, 1.0, 2.0, 4.0, nan, 7.0, 5.0, 6.0, 138184.0, 133185.0, 9.0,\n",
       "       8.0, 45156.0, 44355.0, 290000.0, 133057.0, 116349.0, 71468.0,\n",
       "       64408.0, 62911.0, 41702.0, 8107.0, 3578.0, 811.0], dtype=object)"
      ]
     },
     "execution_count": 192,
     "metadata": {},
     "output_type": "execute_result"
    }
   ],
   "source": [
    "df['bedrooms'].unique()"
   ]
  },
  {
   "cell_type": "code",
   "execution_count": 193,
   "metadata": {},
   "outputs": [
    {
     "data": {
      "text/html": [
       "<div>\n",
       "<style scoped>\n",
       "    .dataframe tbody tr th:only-of-type {\n",
       "        vertical-align: middle;\n",
       "    }\n",
       "\n",
       "    .dataframe tbody tr th {\n",
       "        vertical-align: top;\n",
       "    }\n",
       "\n",
       "    .dataframe thead th {\n",
       "        text-align: right;\n",
       "    }\n",
       "</style>\n",
       "<table border=\"1\" class=\"dataframe\">\n",
       "  <thead>\n",
       "    <tr style=\"text-align: right;\">\n",
       "      <th></th>\n",
       "      <th>price</th>\n",
       "      <th>property_type</th>\n",
       "      <th>bedrooms</th>\n",
       "      <th>bathrooms</th>\n",
       "      <th>total_rooms</th>\n",
       "      <th>living_area</th>\n",
       "      <th>land_area</th>\n",
       "      <th>construction_year</th>\n",
       "      <th>neighborhood</th>\n",
       "      <th>city</th>\n",
       "      <th>...</th>\n",
       "      <th>interphone</th>\n",
       "      <th>terrace</th>\n",
       "      <th>electric_heating</th>\n",
       "      <th>elevator</th>\n",
       "      <th>alarm_system</th>\n",
       "      <th>internet_access</th>\n",
       "      <th>sea_view</th>\n",
       "      <th>furnished</th>\n",
       "      <th>central_heating</th>\n",
       "      <th>kitchen_equipped</th>\n",
       "    </tr>\n",
       "  </thead>\n",
       "  <tbody>\n",
       "  </tbody>\n",
       "</table>\n",
       "<p>0 rows × 28 columns</p>\n",
       "</div>"
      ],
      "text/plain": [
       "Empty DataFrame\n",
       "Columns: [price, property_type, bedrooms, bathrooms, total_rooms, living_area, land_area, construction_year, neighborhood, city, climatisation, parabole_tv, pool, handicapped_access, parking, garage, garden, fireplace, interphone, terrace, electric_heating, elevator, alarm_system, internet_access, sea_view, furnished, central_heating, kitchen_equipped]\n",
       "Index: []\n",
       "\n",
       "[0 rows x 28 columns]"
      ]
     },
     "execution_count": 193,
     "metadata": {},
     "output_type": "execute_result"
    }
   ],
   "source": [
    "df[df['bedrooms']=='45156']"
   ]
  },
  {
   "cell_type": "markdown",
   "metadata": {},
   "source": [
    "this user wirte wrong his info "
   ]
  },
  {
   "cell_type": "code",
   "execution_count": 194,
   "metadata": {},
   "outputs": [
    {
     "name": "stderr",
     "output_type": "stream",
     "text": [
      "C:\\Users\\MSI\\AppData\\Local\\Temp\\ipykernel_25068\\1775607679.py:2: FutureWarning: Setting an item of incompatible dtype is deprecated and will raise an error in a future version of pandas. Value '2' has dtype incompatible with float64, please explicitly cast to a compatible dtype first.\n",
      "  df.loc[df['bedrooms'] == '45156', ['bedrooms', 'bathrooms', 'price']] = ['4', '2', 675000000]\n"
     ]
    }
   ],
   "source": [
    "# Update multiple values for rows where bedrooms is '45156'\n",
    "df.loc[df['bedrooms'] == '45156', ['bedrooms', 'bathrooms', 'price']] = ['4', '2', 675000000]"
   ]
  },
  {
   "cell_type": "code",
   "execution_count": 195,
   "metadata": {},
   "outputs": [
    {
     "data": {
      "text/plain": [
       "array([3.0, 1.0, 2.0, 4.0, nan, 7.0, 5.0, 6.0, 138184.0, 133185.0, 9.0,\n",
       "       8.0, 45156.0, 44355.0, 290000.0, 133057.0, 116349.0, 71468.0,\n",
       "       64408.0, 62911.0, 41702.0, 8107.0, 3578.0, 811.0], dtype=object)"
      ]
     },
     "execution_count": 195,
     "metadata": {},
     "output_type": "execute_result"
    }
   ],
   "source": [
    "df['bedrooms'].unique()"
   ]
  },
  {
   "cell_type": "code",
   "execution_count": 196,
   "metadata": {},
   "outputs": [],
   "source": [
    "df.loc[df['bedrooms'] == '133185', 'bedrooms'] = '3'\n"
   ]
  },
  {
   "cell_type": "code",
   "execution_count": 197,
   "metadata": {},
   "outputs": [],
   "source": [
    "df = df[df['bedrooms'] != '44355']"
   ]
  },
  {
   "cell_type": "code",
   "execution_count": 198,
   "metadata": {},
   "outputs": [],
   "source": [
    "df.loc[df['bedrooms'] == '133057', 'bedrooms'] = '2'"
   ]
  },
  {
   "cell_type": "code",
   "execution_count": 199,
   "metadata": {},
   "outputs": [],
   "source": [
    "df.loc[df['bedrooms'] == '116349', 'bedrooms'] = '9'"
   ]
  },
  {
   "cell_type": "code",
   "execution_count": 200,
   "metadata": {},
   "outputs": [],
   "source": [
    "df.loc[df['bedrooms'] == '71468', 'bedrooms'] = '4'"
   ]
  },
  {
   "cell_type": "code",
   "execution_count": 201,
   "metadata": {},
   "outputs": [],
   "source": [
    "df.loc[df['bedrooms'] == '64408', 'bedrooms'] = '3'"
   ]
  },
  {
   "cell_type": "code",
   "execution_count": 202,
   "metadata": {},
   "outputs": [],
   "source": [
    "df.loc[df['bedrooms'] == '62911', 'bedrooms'] = '3'"
   ]
  },
  {
   "cell_type": "code",
   "execution_count": 203,
   "metadata": {},
   "outputs": [],
   "source": [
    "df.loc[df['bedrooms'] == '41702', 'bedrooms'] = '4'"
   ]
  },
  {
   "cell_type": "code",
   "execution_count": 204,
   "metadata": {},
   "outputs": [],
   "source": [
    "df = df[df['bedrooms'] != '8107']\n"
   ]
  },
  {
   "cell_type": "code",
   "execution_count": 205,
   "metadata": {},
   "outputs": [],
   "source": [
    "df.loc[df['bedrooms'] == '3578', 'bedrooms'] = '2'"
   ]
  },
  {
   "cell_type": "code",
   "execution_count": 206,
   "metadata": {},
   "outputs": [],
   "source": [
    "df.loc[df['bedrooms'] == '811', 'bedrooms'] = '2'"
   ]
  },
  {
   "cell_type": "code",
   "execution_count": 207,
   "metadata": {},
   "outputs": [
    {
     "data": {
      "text/plain": [
       "array([1.25e+06, 3.60e+05, 3.20e+05, ..., 2.70e+04, 1.25e+07, 7.50e+07],\n",
       "      shape=(1298,))"
      ]
     },
     "execution_count": 207,
     "metadata": {},
     "output_type": "execute_result"
    }
   ],
   "source": [
    "df['price'].unique()"
   ]
  },
  {
   "cell_type": "code",
   "execution_count": null,
   "metadata": {},
   "outputs": [
    {
     "name": "stdout",
     "output_type": "stream",
     "text": [
      "Top 10 minimum prices:\n",
      "12      1.0\n",
      "282     1.0\n",
      "295     1.0\n",
      "531     1.0\n",
      "544     1.0\n",
      "559     1.0\n",
      "574     1.0\n",
      "577     1.0\n",
      "691     1.0\n",
      "1010    1.0\n",
      "Name: price, dtype: float64\n"
     ]
    }
   ],
   "source": []
  },
  {
   "cell_type": "code",
   "execution_count": 209,
   "metadata": {},
   "outputs": [],
   "source": [
    "df = df[df['price'] != 1]\n"
   ]
  },
  {
   "cell_type": "code",
   "execution_count": 210,
   "metadata": {},
   "outputs": [
    {
     "data": {
      "text/plain": [
       "(14260, 28)"
      ]
     },
     "execution_count": 210,
     "metadata": {},
     "output_type": "execute_result"
    }
   ],
   "source": [
    "df.shape"
   ]
  },
  {
   "cell_type": "code",
   "execution_count": 211,
   "metadata": {},
   "outputs": [],
   "source": [
    "df = df.dropna(subset=['bedrooms'])"
   ]
  },
  {
   "cell_type": "code",
   "execution_count": 212,
   "metadata": {},
   "outputs": [
    {
     "data": {
      "text/plain": [
       "(11002, 28)"
      ]
     },
     "execution_count": 212,
     "metadata": {},
     "output_type": "execute_result"
    }
   ],
   "source": [
    "df.shape"
   ]
  },
  {
   "cell_type": "code",
   "execution_count": 217,
   "metadata": {},
   "outputs": [
    {
     "data": {
      "text/plain": [
       "array([3.0, 1.0, 2.0, 4.0, 7.0, 5.0, 6.0, 138184.0, 133185.0, 9.0, 8.0,\n",
       "       44355.0, 290000.0, 133057.0, 64408.0, 3578.0, 811.0], dtype=object)"
      ]
     },
     "execution_count": 217,
     "metadata": {},
     "output_type": "execute_result"
    }
   ],
   "source": [
    "df['bedrooms'].unique()"
   ]
  },
  {
   "cell_type": "code",
   "execution_count": 218,
   "metadata": {},
   "outputs": [
    {
     "data": {
      "text/html": [
       "<div>\n",
       "<style scoped>\n",
       "    .dataframe tbody tr th:only-of-type {\n",
       "        vertical-align: middle;\n",
       "    }\n",
       "\n",
       "    .dataframe tbody tr th {\n",
       "        vertical-align: top;\n",
       "    }\n",
       "\n",
       "    .dataframe thead th {\n",
       "        text-align: right;\n",
       "    }\n",
       "</style>\n",
       "<table border=\"1\" class=\"dataframe\">\n",
       "  <thead>\n",
       "    <tr style=\"text-align: right;\">\n",
       "      <th></th>\n",
       "      <th>price</th>\n",
       "      <th>property_type</th>\n",
       "      <th>bedrooms</th>\n",
       "      <th>bathrooms</th>\n",
       "      <th>total_rooms</th>\n",
       "      <th>living_area</th>\n",
       "      <th>land_area</th>\n",
       "      <th>construction_year</th>\n",
       "      <th>neighborhood</th>\n",
       "      <th>city</th>\n",
       "      <th>...</th>\n",
       "      <th>interphone</th>\n",
       "      <th>terrace</th>\n",
       "      <th>electric_heating</th>\n",
       "      <th>elevator</th>\n",
       "      <th>alarm_system</th>\n",
       "      <th>internet_access</th>\n",
       "      <th>sea_view</th>\n",
       "      <th>furnished</th>\n",
       "      <th>central_heating</th>\n",
       "      <th>kitchen_equipped</th>\n",
       "    </tr>\n",
       "  </thead>\n",
       "  <tbody>\n",
       "    <tr>\n",
       "      <th>0</th>\n",
       "      <td>1250000.0</td>\n",
       "      <td>Appartement</td>\n",
       "      <td>3.0</td>\n",
       "      <td>NaN</td>\n",
       "      <td>4.0</td>\n",
       "      <td>178.0</td>\n",
       "      <td>178.0</td>\n",
       "      <td>NaN</td>\n",
       "      <td>La Marsa</td>\n",
       "      <td>Tunis</td>\n",
       "      <td>...</td>\n",
       "      <td>1</td>\n",
       "      <td>1</td>\n",
       "      <td>1</td>\n",
       "      <td>1</td>\n",
       "      <td>1</td>\n",
       "      <td>1</td>\n",
       "      <td>1</td>\n",
       "      <td>0</td>\n",
       "      <td>1</td>\n",
       "      <td>1</td>\n",
       "    </tr>\n",
       "    <tr>\n",
       "      <th>1</th>\n",
       "      <td>360000.0</td>\n",
       "      <td>Appartement</td>\n",
       "      <td>3.0</td>\n",
       "      <td>NaN</td>\n",
       "      <td>4.0</td>\n",
       "      <td>110.0</td>\n",
       "      <td>110.0</td>\n",
       "      <td>NaN</td>\n",
       "      <td>La Marsa</td>\n",
       "      <td>Tunis</td>\n",
       "      <td>...</td>\n",
       "      <td>1</td>\n",
       "      <td>1</td>\n",
       "      <td>1</td>\n",
       "      <td>1</td>\n",
       "      <td>1</td>\n",
       "      <td>1</td>\n",
       "      <td>1</td>\n",
       "      <td>1</td>\n",
       "      <td>1</td>\n",
       "      <td>1</td>\n",
       "    </tr>\n",
       "    <tr>\n",
       "      <th>2</th>\n",
       "      <td>320000.0</td>\n",
       "      <td>Appartement</td>\n",
       "      <td>1.0</td>\n",
       "      <td>1.0</td>\n",
       "      <td>NaN</td>\n",
       "      <td>53.0</td>\n",
       "      <td>0.0</td>\n",
       "      <td>NaN</td>\n",
       "      <td>La Marsa</td>\n",
       "      <td>Tunis</td>\n",
       "      <td>...</td>\n",
       "      <td>1</td>\n",
       "      <td>1</td>\n",
       "      <td>1</td>\n",
       "      <td>1</td>\n",
       "      <td>1</td>\n",
       "      <td>1</td>\n",
       "      <td>1</td>\n",
       "      <td>1</td>\n",
       "      <td>1</td>\n",
       "      <td>1</td>\n",
       "    </tr>\n",
       "    <tr>\n",
       "      <th>3</th>\n",
       "      <td>422000.0</td>\n",
       "      <td>Appartement</td>\n",
       "      <td>2.0</td>\n",
       "      <td>2.0</td>\n",
       "      <td>3.0</td>\n",
       "      <td>125.0</td>\n",
       "      <td>125.0</td>\n",
       "      <td>2022.0</td>\n",
       "      <td>La Soukra</td>\n",
       "      <td>Ariana</td>\n",
       "      <td>...</td>\n",
       "      <td>0</td>\n",
       "      <td>0</td>\n",
       "      <td>0</td>\n",
       "      <td>0</td>\n",
       "      <td>1</td>\n",
       "      <td>0</td>\n",
       "      <td>1</td>\n",
       "      <td>1</td>\n",
       "      <td>0</td>\n",
       "      <td>0</td>\n",
       "    </tr>\n",
       "    <tr>\n",
       "      <th>4</th>\n",
       "      <td>245000.0</td>\n",
       "      <td>Appartement</td>\n",
       "      <td>1.0</td>\n",
       "      <td>1.0</td>\n",
       "      <td>2.0</td>\n",
       "      <td>74.0</td>\n",
       "      <td>0.0</td>\n",
       "      <td>2024.0</td>\n",
       "      <td>Mrezga</td>\n",
       "      <td>Nabeul</td>\n",
       "      <td>...</td>\n",
       "      <td>0</td>\n",
       "      <td>0</td>\n",
       "      <td>1</td>\n",
       "      <td>1</td>\n",
       "      <td>0</td>\n",
       "      <td>0</td>\n",
       "      <td>1</td>\n",
       "      <td>1</td>\n",
       "      <td>0</td>\n",
       "      <td>0</td>\n",
       "    </tr>\n",
       "    <tr>\n",
       "      <th>...</th>\n",
       "      <td>...</td>\n",
       "      <td>...</td>\n",
       "      <td>...</td>\n",
       "      <td>...</td>\n",
       "      <td>...</td>\n",
       "      <td>...</td>\n",
       "      <td>...</td>\n",
       "      <td>...</td>\n",
       "      <td>...</td>\n",
       "      <td>...</td>\n",
       "      <td>...</td>\n",
       "      <td>...</td>\n",
       "      <td>...</td>\n",
       "      <td>...</td>\n",
       "      <td>...</td>\n",
       "      <td>...</td>\n",
       "      <td>...</td>\n",
       "      <td>...</td>\n",
       "      <td>...</td>\n",
       "      <td>...</td>\n",
       "      <td>...</td>\n",
       "    </tr>\n",
       "    <tr>\n",
       "      <th>16057</th>\n",
       "      <td>220000.0</td>\n",
       "      <td>Maison</td>\n",
       "      <td>3.0</td>\n",
       "      <td>2.0</td>\n",
       "      <td>4.0</td>\n",
       "      <td>170.0</td>\n",
       "      <td>476.0</td>\n",
       "      <td>2013.0</td>\n",
       "      <td>Monastir</td>\n",
       "      <td>Monastir</td>\n",
       "      <td>...</td>\n",
       "      <td>0</td>\n",
       "      <td>0</td>\n",
       "      <td>1</td>\n",
       "      <td>1</td>\n",
       "      <td>1</td>\n",
       "      <td>0</td>\n",
       "      <td>1</td>\n",
       "      <td>1</td>\n",
       "      <td>0</td>\n",
       "      <td>0</td>\n",
       "    </tr>\n",
       "    <tr>\n",
       "      <th>16059</th>\n",
       "      <td>175000.0</td>\n",
       "      <td>Maison</td>\n",
       "      <td>3.0</td>\n",
       "      <td>2.0</td>\n",
       "      <td>6.0</td>\n",
       "      <td>157.0</td>\n",
       "      <td>157.0</td>\n",
       "      <td>2017.0</td>\n",
       "      <td>Sbeïtla</td>\n",
       "      <td>Kasserine</td>\n",
       "      <td>...</td>\n",
       "      <td>1</td>\n",
       "      <td>1</td>\n",
       "      <td>1</td>\n",
       "      <td>1</td>\n",
       "      <td>1</td>\n",
       "      <td>1</td>\n",
       "      <td>1</td>\n",
       "      <td>1</td>\n",
       "      <td>1</td>\n",
       "      <td>1</td>\n",
       "    </tr>\n",
       "    <tr>\n",
       "      <th>16060</th>\n",
       "      <td>255000.0</td>\n",
       "      <td>Maison</td>\n",
       "      <td>4.0</td>\n",
       "      <td>NaN</td>\n",
       "      <td>6.0</td>\n",
       "      <td>455.0</td>\n",
       "      <td>435.0</td>\n",
       "      <td>2007.0</td>\n",
       "      <td>Kasserine Nord</td>\n",
       "      <td>Kasserine</td>\n",
       "      <td>...</td>\n",
       "      <td>1</td>\n",
       "      <td>0</td>\n",
       "      <td>1</td>\n",
       "      <td>1</td>\n",
       "      <td>1</td>\n",
       "      <td>1</td>\n",
       "      <td>1</td>\n",
       "      <td>1</td>\n",
       "      <td>1</td>\n",
       "      <td>0</td>\n",
       "    </tr>\n",
       "    <tr>\n",
       "      <th>16061</th>\n",
       "      <td>450000.0</td>\n",
       "      <td>Maison</td>\n",
       "      <td>5.0</td>\n",
       "      <td>3.0</td>\n",
       "      <td>8.0</td>\n",
       "      <td>650.0</td>\n",
       "      <td>1170.0</td>\n",
       "      <td>2015.0</td>\n",
       "      <td>Kasserine Nord</td>\n",
       "      <td>Kasserine</td>\n",
       "      <td>...</td>\n",
       "      <td>0</td>\n",
       "      <td>0</td>\n",
       "      <td>1</td>\n",
       "      <td>1</td>\n",
       "      <td>1</td>\n",
       "      <td>1</td>\n",
       "      <td>1</td>\n",
       "      <td>0</td>\n",
       "      <td>0</td>\n",
       "      <td>0</td>\n",
       "    </tr>\n",
       "    <tr>\n",
       "      <th>16062</th>\n",
       "      <td>300000.0</td>\n",
       "      <td>Maison</td>\n",
       "      <td>6.0</td>\n",
       "      <td>2.0</td>\n",
       "      <td>8.0</td>\n",
       "      <td>200.0</td>\n",
       "      <td>600.0</td>\n",
       "      <td>2006.0</td>\n",
       "      <td>Djedeida</td>\n",
       "      <td>Manouba</td>\n",
       "      <td>...</td>\n",
       "      <td>1</td>\n",
       "      <td>1</td>\n",
       "      <td>1</td>\n",
       "      <td>1</td>\n",
       "      <td>1</td>\n",
       "      <td>1</td>\n",
       "      <td>1</td>\n",
       "      <td>1</td>\n",
       "      <td>1</td>\n",
       "      <td>1</td>\n",
       "    </tr>\n",
       "  </tbody>\n",
       "</table>\n",
       "<p>9029 rows × 28 columns</p>\n",
       "</div>"
      ],
      "text/plain": [
       "           price property_type bedrooms bathrooms  total_rooms  living_area  \\\n",
       "0      1250000.0   Appartement      3.0       NaN          4.0        178.0   \n",
       "1       360000.0   Appartement      3.0       NaN          4.0        110.0   \n",
       "2       320000.0   Appartement      1.0       1.0          NaN         53.0   \n",
       "3       422000.0   Appartement      2.0       2.0          3.0        125.0   \n",
       "4       245000.0   Appartement      1.0       1.0          2.0         74.0   \n",
       "...          ...           ...      ...       ...          ...          ...   \n",
       "16057   220000.0        Maison      3.0       2.0          4.0        170.0   \n",
       "16059   175000.0        Maison      3.0       2.0          6.0        157.0   \n",
       "16060   255000.0        Maison      4.0       NaN          6.0        455.0   \n",
       "16061   450000.0        Maison      5.0       3.0          8.0        650.0   \n",
       "16062   300000.0        Maison      6.0       2.0          8.0        200.0   \n",
       "\n",
       "       land_area  construction_year    neighborhood       city  ...  \\\n",
       "0          178.0                NaN        La Marsa      Tunis  ...   \n",
       "1          110.0                NaN        La Marsa      Tunis  ...   \n",
       "2            0.0                NaN        La Marsa      Tunis  ...   \n",
       "3          125.0             2022.0       La Soukra     Ariana  ...   \n",
       "4            0.0             2024.0          Mrezga     Nabeul  ...   \n",
       "...          ...                ...             ...        ...  ...   \n",
       "16057      476.0             2013.0        Monastir   Monastir  ...   \n",
       "16059      157.0             2017.0         Sbeïtla  Kasserine  ...   \n",
       "16060      435.0             2007.0  Kasserine Nord  Kasserine  ...   \n",
       "16061     1170.0             2015.0  Kasserine Nord  Kasserine  ...   \n",
       "16062      600.0             2006.0        Djedeida    Manouba  ...   \n",
       "\n",
       "       interphone  terrace  electric_heating  elevator  alarm_system  \\\n",
       "0               1        1                 1         1             1   \n",
       "1               1        1                 1         1             1   \n",
       "2               1        1                 1         1             1   \n",
       "3               0        0                 0         0             1   \n",
       "4               0        0                 1         1             0   \n",
       "...           ...      ...               ...       ...           ...   \n",
       "16057           0        0                 1         1             1   \n",
       "16059           1        1                 1         1             1   \n",
       "16060           1        0                 1         1             1   \n",
       "16061           0        0                 1         1             1   \n",
       "16062           1        1                 1         1             1   \n",
       "\n",
       "       internet_access  sea_view  furnished  central_heating  kitchen_equipped  \n",
       "0                    1         1          0                1                 1  \n",
       "1                    1         1          1                1                 1  \n",
       "2                    1         1          1                1                 1  \n",
       "3                    0         1          1                0                 0  \n",
       "4                    0         1          1                0                 0  \n",
       "...                ...       ...        ...              ...               ...  \n",
       "16057                0         1          1                0                 0  \n",
       "16059                1         1          1                1                 1  \n",
       "16060                1         1          1                1                 0  \n",
       "16061                1         1          0                0                 0  \n",
       "16062                1         1          1                1                 1  \n",
       "\n",
       "[9029 rows x 28 columns]"
      ]
     },
     "execution_count": 218,
     "metadata": {},
     "output_type": "execute_result"
    }
   ],
   "source": [
    "df[df['bedrooms']!= '133185.0']"
   ]
  },
  {
   "cell_type": "code",
   "execution_count": null,
   "metadata": {},
   "outputs": [],
   "source": [
    "df.loc[df['bedrooms'] == '3578', 'bedrooms'] = '2'"
   ]
  },
  {
   "cell_type": "code",
   "execution_count": null,
   "metadata": {},
   "outputs": [],
   "source": []
  },
  {
   "cell_type": "code",
   "execution_count": 214,
   "metadata": {},
   "outputs": [
    {
     "name": "stdout",
     "output_type": "stream",
     "text": [
      "Top 10 minimum prices:\n",
      "333       2.0\n",
      "2306      2.0\n",
      "7713      2.0\n",
      "8275      2.0\n",
      "10760     2.0\n",
      "10695     5.0\n",
      "8697      6.0\n",
      "11337     8.0\n",
      "11187     9.0\n",
      "11338     9.0\n",
      "11411     9.0\n",
      "9338     10.0\n",
      "11103    10.0\n",
      "10455    11.0\n",
      "11173    15.0\n",
      "15669    17.0\n",
      "307      22.0\n",
      "4877     28.0\n",
      "8791     28.0\n",
      "500      30.0\n",
      "Name: price, dtype: float64\n"
     ]
    }
   ],
   "source": [
    "min_prices = df['price'].nsmallest(20)\n",
    "print(\"Top 10 minimum prices:\")\n",
    "print(min_prices)"
   ]
  },
  {
   "cell_type": "code",
   "execution_count": 215,
   "metadata": {},
   "outputs": [],
   "source": [
    "df = df[df['price'] >= 80000]\n"
   ]
  },
  {
   "cell_type": "code",
   "execution_count": 216,
   "metadata": {},
   "outputs": [],
   "source": [
    "# # Save the cleaned DataFrame to CSV with proper encoding\n",
    "# output_path = r'c:\\Users\\MSI\\Desktop\\House Sale Price Prediction\\CSV\\menzili_properties.csv'\n",
    "\n",
    "# # Create directory if it doesn't exist\n",
    "# import os\n",
    "# os.makedirs(os.path.dirname(output_path), exist_ok=True)\n",
    "\n",
    "# # Save to CSV with UTF-8 encoding\n",
    "# df.to_csv(output_path, index=False, encoding='utf-8-sig')\n",
    "\n",
    "# # Verify the save\n",
    "# if os.path.exists(output_path):\n",
    "#     print(f\"Data saved successfully to: {output_path}\")\n",
    "#     print(f\"File size: {os.path.getsize(output_path) / (1024*1024):.2f} MB\")\n",
    "# else:\n",
    "#     print(\"Error: File was not saved properly\")"
   ]
  },
  {
   "cell_type": "code",
   "execution_count": null,
   "metadata": {},
   "outputs": [],
   "source": []
  }
 ],
 "metadata": {
  "kernelspec": {
   "display_name": "Python 3",
   "language": "python",
   "name": "python3"
  },
  "language_info": {
   "codemirror_mode": {
    "name": "ipython",
    "version": 3
   },
   "file_extension": ".py",
   "mimetype": "text/x-python",
   "name": "python",
   "nbconvert_exporter": "python",
   "pygments_lexer": "ipython3",
   "version": "3.12.10"
  }
 },
 "nbformat": 4,
 "nbformat_minor": 2
}
